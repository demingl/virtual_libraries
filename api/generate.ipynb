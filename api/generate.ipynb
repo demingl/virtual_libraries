{
 "cells": [
  {
   "cell_type": "code",
   "execution_count": 1,
   "metadata": {},
   "outputs": [],
   "source": [
    "import subprocess\n"
   ]
  },
  {
   "cell_type": "code",
   "execution_count": 3,
   "metadata": {},
   "outputs": [],
   "source": [
    "bash_command = ['bash',\"test.sh\"]"
   ]
  },
  {
   "cell_type": "code",
   "execution_count": 16,
   "metadata": {},
   "outputs": [],
   "source": [
    "bash_command1 = ['/Users/dml/opt/anaconda3/envs/mollib/bin/python', 'generate.py','-n','2']"
   ]
  },
  {
   "cell_type": "code",
   "execution_count": null,
   "metadata": {},
   "outputs": [],
   "source": []
  },
  {
   "cell_type": "code",
   "execution_count": 19,
   "metadata": {},
   "outputs": [
    {
     "name": "stderr",
     "output_type": "stream",
     "text": [
      "Using TensorFlow backend.\n"
     ]
    },
    {
     "name": "stdout",
     "output_type": "stream",
     "text": [
      "['GC1C(OC(=O)C[N+]2(C)CC[N+](CCC(=O)OC3CC(C)(C)N(O)C(C)(C)C3)(C)CC2)CC(C)(C)N(O)C1(C)CE', 'GC1C(OC(CC[N+]2(C)CC[N+](CC(=O)OC3CC(C)(C)N(O)C(C)(C)C3)(C)CC2)=O)CC(C)(C)N(O)C1(C)CE']\n"
     ]
    },
    {
     "data": {
      "text/plain": [
       "CompletedProcess(args=['/Users/dml/opt/anaconda3/envs/mollib/bin/python', 'generate.py', '-n', '2'], returncode=0)"
      ]
     },
     "execution_count": 19,
     "metadata": {},
     "output_type": "execute_result"
    }
   ],
   "source": [
    "subprocess.run(bash_command1)"
   ]
  },
  {
   "cell_type": "code",
   "execution_count": null,
   "metadata": {},
   "outputs": [],
   "source": []
  },
  {
   "cell_type": "code",
   "execution_count": null,
   "metadata": {},
   "outputs": [],
   "source": [
    "'/Users/dml/My Projects/virtual_libraries/experiments/results/Dimers_TEMP/novo_molecules/molecules_10_0.7.pkl'"
   ]
  },
  {
   "cell_type": "code",
   "execution_count": null,
   "metadata": {},
   "outputs": [],
   "source": []
  },
  {
   "cell_type": "code",
   "execution_count": 2,
   "metadata": {},
   "outputs": [
    {
     "name": "stderr",
     "output_type": "stream",
     "text": [
      "Using TensorFlow backend.\n"
     ]
    }
   ],
   "source": [
    "import do_data_generation "
   ]
  },
  {
   "cell_type": "code",
   "execution_count": 4,
   "metadata": {},
   "outputs": [],
   "source": [
    "model_path = '/Users/dml/My Projects/virtual_libraries/experiments/results/Dimers_TEMP/models/40.h5'\n",
    "\n",
    "temp = 0.7\n",
    "\n",
    "\n",
    "max_len = 140\n",
    "pad_char = do_data_generation.FP.PROCESSING_FIXED['pad_char']\n",
    "temp=0.7\n",
    "start_char = do_data_generation.FP.PROCESSING_FIXED['start_char']\n",
    "end_char = do_data_generation.FP.PROCESSING_FIXED['end_char']\n",
    "indices_token = do_data_generation.FP.INDICES_TOKEN\n",
    "token_indices = do_data_generation.FP.TOKEN_INDICES\n",
    "\n",
    "model = do_data_generation.load_model(model_path)\n",
    "\n",
    "sampled = do_data_generation.sample(model, temp, start_char, end_char, max_len, indices_token, token_indices)"
   ]
  },
  {
   "cell_type": "code",
   "execution_count": 6,
   "metadata": {},
   "outputs": [
    {
     "name": "stdout",
     "output_type": "stream",
     "text": [
      "GC(C)[N+]1(CC(=O)OC2CC(C)(C)N(O)C(C)(C)C2)CC[N+](C)(CC(=O)OC2CC(C)(C)N(O)C(C)(C)C2)CC1E\n",
      "GC1(C)(C)N(O)C(C)(C)CC(OC(C[N+]2(C)CC[N+](CCC(=O)NC3CC(C)(C)N(O)C(C)(C)C3)(C)CC2)=O)C1E\n",
      "GC1(C)(C)N(O)C(C)(C)CC(OCC[N+]2(C)CC[N+](CC(=O)NC3CC(C)(C)N(O)C(C)(C)C3)(C)CC2)C1E\n",
      "GCC1(C)N(O)C(C)(C)CC(OC(CC[N+](C2CC(C)(C)N(O)C(C)(C)C2)=O)(C)C)C1E\n",
      "GCC1(C)N(O)C(C)(C)CC(OC(=O)C[N+]2(C)CC[N+](CCC(OC3CC(C)(C)N(O)C(C)(C)C3)=O)(C)CC2)C1E\n",
      "GC(C)(C)[N+](CC[N+](C)(C1CC(C)(C)N(O)C(C)(C)C1)C)(C)CC(=O)OC1CC(C)(C)N(O)C(C)(C)C1E\n",
      "GC1(C)(C)N(O)C(C)(C)CC(OC(CC[N+]2(C)CC[N+](C)(CC(NC3CC(C)(C)N(O)C(C)(C)C3)=O)CC2)=O)C1E\n",
      "GC1(C)(C)N(O)C(C)(C)CC(OC(=O)C[N+]2(C)CC[N+](CCC(OC3CC(C)(C)N(O)C(C)(C)C3)=O)(C)CC2)C1E\n",
      "GCC1(C)N(O)C(C)(C)CC(OC(=O)C[N+]2=CC=C(C(=O)OC3CC(C)(C)N(O)C(C)(C)C3)C=C2)C1E\n",
      "GCC1(C)N(O)C(C)(C)CC(OC(C[N+]2(C)CC[N+](C)(CCC(=O)OC3CC(C)(C)N(O)C(C)(C)C3)CC2)=O)C1E\n",
      "GC(C[N+]1(C)CC[N+](C)(CC(=O)OC2CC(C)(C)N(O)C(C)(C)C2)CC1)CC(=O)NC1CC(C)(C)N(O)C(C)(C)C1E\n",
      "GC1(C)(C)N(O)C(C)(C)CC(OC(C[N+]2(C)CC[N+](CC(NC3CC(C)(C)N(O)C(C)(C)C3)=O)(C)CC2)=O)C1E\n",
      "GCC1(C)N(O)C(C)(C)CC(OC(C[N+]2(C)CC[N+](CC(=O)OC3CC(C)(C)N(O)C(C)(C)C3)(C)CC2)=O)C1E\n",
      "GCC1(C)N(O)C(C)(C)CC(OC(C[N+]2(C)CC[N+](CC(=O)NC3CC(C)(C)N(O)C(C)(C)C3)(C)CC2)=O)C1E\n",
      "GCC1(C)N(O)C(C)(C)CC(OC(=O)CC[N+]2=CC=C(C3=CC=[N+](CCC(=O)NC4CC(C)(C)N(O)C(C)(C)C4)C=C3)C=C2)C1E\n",
      "GC1C(OC(=O)C[N+]2(C)CC[N+](CCC(=O)NC3CC(C)(C)N(O)C(C)(C)C3)(C)CC2)CC(C)(C)N(O)C1(C)CE\n",
      "GC1C(C)(C)N(O)C(C)(C)CC1OC(C[N+]1(C)CC[N+](CC(OC2CC(C)(C)N(O)C(C)(C)C2)=O)(C)CC1)=OE\n",
      "GC1C(OC(=O)C[N+]2(C)CC[N+](CC(OC3CC(C)(C)N(O)C(C)(C)C3)=O)(C)CC2)CC(C)(C)N(O)C1(C)CE\n",
      "GC1(C)(C)N(O)C(C)(C)CC(NC(C[n+]2ccc(-c3cc[n+](CCC(OC4CC(C)(C)N(O)C(C)(C)C4)=O)cc3)cc2)=O)C1E\n",
      "GC1(C)(C)N(O)C(C)(C)CC([N+](CC)(CC)CCOC2CC(C)(C)N(O)C(C)(C)C2)C1E\n",
      "GC1C(OC(=O)C[N+]2(C)CC[N+](CCC(=O)OC3CC(C)(C)N(O)C(C)(C)C3)(C)CC2)CC(C)(C)N(O)C1(C)CE\n",
      "GC(C[N+]1(C)CC[N+](C)(CC(=O)OC2CC(C)(C)N(O)C(C)(C)C2)CC1)OC1CC(C)(C)N(O)C(C)(C)C1E\n",
      "GC1(C)(C)N(O)C(C)(C)CC(OC(CC[n+]2ccc(-c3cc[n+](CCCC(OC4CC(C)(C)N(O)C(C)(C)C4)=O)cc3)cc2)=O)C1E\n",
      "GC1(C)(C)N(O)C(C)(C)CC(OCC[N+](CC)(CC)C2CC(C)(C)N(O)C(C)(C)C2)C1E\n",
      "GC1(C)(C)N(O)C(C)(C)CC(OC(CC[n+]2ccc(C(=O)NC3CC(C)(C)N(O)C(C)(C)C3)cc2)=O)C1E\n",
      "GCc1n(CC(OC2CC(C)(C)N(O)C(C)(C)C2)=O)cc[n+]1CC(=O)OC1CC(C)(C)N(O)C(C)(C)C1E\n",
      "GC1(C)(C)N(O)C(C)(C)CC(OCC[N+]2=CC=C(C(=O)OC3CC(C)(C)N(O)C(C)(C)C3)C=C2)C1E\n",
      "GC(CC[n+]1ccc(-c2cc[n+](CCCC(OC3CC(C)(C)N(O)C(C)(C)C3)=O)cc2)cc1)(=O)NC1CC(C)(C)N(O)C(C)(C)C1E\n",
      "GCC1(C)N(O)C(C)(C)CC(OC(C[N+]2(C)CC[N+](CC(OC3CC(C)(C)N(O)C(C)(C)C3)=O)(C)CC2)=O)C1E\n",
      "GCC1(C)N(O)C(C)(C)CC(OC(C[N+]2(C)CC[N+](CC(=O)OC3CC(C)(C)N(O)C(C)(C)C3)(C)CC2)=O)C1E\n",
      "GCC1(C)N(O)C(C)(C)CC(OC(C[N+]2(C)CC[N+](CCC(=O)NC3CC(C)(C)N(O)C(C)(C)C3)(C)CC2)=O)C1E\n",
      "GCC1(C)N(O)C(C)(C)CC([N+](CC)(CCOC2CC(C)(C)N(O)C(C)(C)C2)CC)C1E\n",
      "GC1C(OC(C[N+]2(C)CC[N+](CC(=O)OC3CC(C)(C)N(O)C(C)(C)C3)(C)CC2)=O)CC(C)(C)N(O)C1(C)CE\n",
      "GCC1(C)N(O)C(C)(C)CC(OCC[N+]2(C)CC[N+](CC(=O)NC3CC(C)(C)N(O)C(C)(C)C3)(C)CC2)C1E\n",
      "GCC1(C)N(O)C(C)(C)CC(OC(C[N+]2(C)CC[N+](CCC(=O)OC3CC(C)(C)N(O)C(C)(C)C3)(C)CC2)=O)C1E\n",
      "GCC1(C)N(O)C(C)(C)CC(OC(C[N+]2(C)CC[N+](CC(=O)NC3CC(C)(C)N(O)C(C)(C)C3)(C)CC2)=O)C1E\n",
      "GCC1(C)N(O)C(C)(C)CC(OC(=O)C[N+]2(C)CC[N+](CC(=O)NC3CC(C)(C)N(O)C(C)(C)C3)(C)CC2)C1E\n",
      "GCc1n(CCCC(=O)OC2CC(C)(C)N(O)C(C)(C)C2)cc[n+]1CC(=O)OC1CC(C)(C)N(O)C(C)(C)C1E\n",
      "GC(C)[n+]1ccc(-c2cc[n+](CCC(NC3CC(C)(C)N(O)C(C)(C)C3)=O)cc2)cc1E\n",
      "GCC1(C)N(O)C(C)(C)CC(OCC[N+]2=CC=C(C(=O)OC3CC(C)(C)N(O)C(C)(C)C3)C=C2)C1E\n",
      "GC1(C)(C)N(O)C(C)(C)CC(OCC[N+]2(C)CC[N+](CCC(=O)OC3CC(C)(C)N(O)C(C)(C)C3)(C)CC2)C1E\n",
      "GC1(C)(C)N(O)C(C)(C)CC(OC(C[N+]2(C)CC[N+](CC(=O)NC3CC(C)(C)N(O)C(C)(C)C3)(C)CC2)=O)C1E\n",
      "GCC1(C)CC(NC(=O)C[n+]2ccc(-c3cc[n+](CCC(OC4CC(C)(C)N(O)C(C)(C)C4)=O)cc3)cc2)CC(C)(C)N1OE\n",
      "GC1C(OC(=O)C[N+]2(C)CC[N+](CC(OC3CC(C)(C)N(O)C(C)(C)C3)=O)(C)CC2)CC(C)(C)N(O)C1(C)CE\n",
      "GC1(C)(C)N(O)C(C)(C)CC(OCC[N+]2(C)CC[N+](CC(=O)NC3CC(C)(C)N(O)C(C)(C)C3)(C)CC2)C1E\n",
      "GCC1(C)N(O)C(C)(C)CC(n2c[n+](CCC(=O)OC3CC(C)(C)N(O)C(C)(C)C3)cc2)C1E\n",
      "GC1C(OC(C[N+](C)(C)CCC(OC2CC(C)(C)N(O)C(C)(C)C2)=O)=O)CC(C)(C)N(O)C1(C)CE\n",
      "GC1C(OC(=O)CC[N+]2=CC=C(C3=CC=[N+](C4CC(C)(C)N(O)C(C)(C)C4)C=C3)C=C2)CC(C)(C)N(O)C1(C)CE\n",
      "GCC1(C)N(O)C(C)(C)CC(OC(=O)C[N+]2(C)CC[N+](CCC(=O)NC3CC(C)(C)N(O)C(C)(C)C3)(C)CC2)C1E\n",
      "GCC1(C)N(O)C(C)(C)CC(OC(=O)CC[n+]2ccc(-c3cc[n+](CCC(OC4CC(C)(C)N(O)C(C)(C)C4)=O)cc3)cc2)C1E\n",
      "GC1(C)(C)N(O)C(C)(C)CC(OC(=O)CC[n+]2ccc(-c3cc[n+](CCC(OC4CC(C)(C)N(O)C(C)(C)C4)=O)cc3)cc2)C1E\n",
      "GC1(C)(C)N(O)C(C)(C)CC(OCC[N+]2(C)CC[N+](CCC(=O)NC3CC(C)(C)N(O)C(C)(C)C3)(C)CC2)C1E\n",
      "GC1(C)(C)N(O)C(C)(C)CC(OC(=O)CC[n+]2ccc(-c3cc[n+](CCC(NC4CC(C)(C)N(O)C(C)(C)C4)=O)cc3)cc2)C1E\n",
      "GCC1(C)N(O)C(C)(C)CC(OC(C[N+]2(C)CC[N+](CC(=O)OC3CC(C)(C)N(O)C(C)(C)C3)(C)CC2)=O)C1E\n",
      "GCC1=[N+](CC(OC2CC(C)(C)N(O)C(C)(C)C2)=O)CC(C)(C)N(O)C1(C)CE\n",
      "GC1C(NC(=O)C[N+]2(C)CC[N+](CC(=O)OC3CC(C)(C)N(O)C(C)(C)C3)(C)CC2)CC(C)(C)N(O)C1(C)CE\n",
      "GC1C(C)(C)N(O)C(C)(C)CC1OC(=O)CC[n+]1ccc(-c2cc[n+](CCC(OC3CC(C)(C)N(O)C(C)(C)C3)=O)cc2)cc1E\n",
      "GCC1(C)N(O)C(C)(C)CC(OC(=O)C[N+]2(C)CC[N+](CCC(=O)NC3CC(C)(C)N(O)C(C)(C)C3)(C)CC2)C1E\n",
      "GC1C(OC(=O)C[N+]2(C)CC[N+](CC(=O)NC3CC(C)(C)N(O)C(C)(C)C3)(C)CC2)CC(C)(C)N(O)C1(C)CE\n",
      "GC1(C)(C)N(O)C(C)(C)CC(NC(C[n+]2ccn(CCC(=O)NC3CC(C)(C)N(O)C(C)(C)C3)c2C)=O)C1E\n",
      "GCC1(C)N(O)C(C)(C)CC(OC(C[N+]2(C)CC[N+](C)(CC(=O)OC3CC(C)(C)N(O)C(C)(C)C3)CC2)=O)C1E\n",
      "GCC1(C)N(O)C(C)(C)CC(OC(C[N+]2(C)CC[N+](C)(CCC(=O)OC3CC(C)(C)N(O)C(C)(C)C3)CC2)=O)C1E\n",
      "GCC1(C)N(O)C(C)(C)CC(OC(CC[N+]2=CC=C(C(=O)OC3CC(C)(C)N(O)C(C)(C)C3)CC2)=O)C1E\n",
      "GCC1(C)N(O)C(C)(C)CC(OC(=O)C[N+]2(C)CC[N+](CCC(NC3CC(C)(C)N(O)C(C)(C)C3)=O)(C)CC2)C1E\n",
      "GC1C(OC(=O)C[N+]2(C)CC[N+](CCC(=O)NC3CC(C)(C)N(O)C(C)(C)C3)(C)CC2)CC(C)(C)N(O)C1(C)CE\n",
      "GCC1(C)N(O)C(C)(C)CC(OC(=O)C[N+]2(C)CC[N+](CCC(=O)NC3CC(C)(C)N(O)C(C)(C)C3)(C)CC2)C1E\n",
      "GC1C(OC(C[N+]2(C)CC[N+](CC(=O)OC3CC(C)(C)N(O)C(C)(C)C3)(C)CC2)=O)CC(C)(C)N(O)C1(C)CE\n",
      "GC1(C)(C)N(O)C(C)(C)CC(OC(C[N+]2(C)CC[N+](CC(=O)OC3CC(C)(C)N(O)C(C)(C)C3)(C)CC2)=O)C1E\n",
      "GC1(C)(C)N(O)C(C)(C)CC(OCC[N+]2(C)CC[N+](CC(=O)OC3CC(C)(C)N(O)C(C)(C)C3)(C)CC2)C1E\n",
      "GCC1(C)N(O)C(C)(C)CC(OCC[N+](CC[N+](C)(C)C2CC(C)(C)N(O)C(C)(C)C2)(C)C)C1E\n",
      "GCC1(C)N(O)C(C)(C)CC(OC(C[N+]2(C)CC[N+](CCC(=O)NC3CC(C)(C)N(O)C(C)(C)C3)(C)CC2)=O)C1E\n",
      "GC1C(OC(=O)C[N+]2(C)CC[N+](CC(OC3CC(C)(C)N(O)C(C)(C)C3)=O)(C)CC2)CC(C)(C)N(O)C1(C)CE\n",
      "GC1C(OC(=O)C[N+]2(C)CC[N+](CCC(=O)OC3CC(C)(C)N(O)C(C)(C)C3)(C)CC2)CC(C)(C)N(O)C1(C)CE\n",
      "GCC1(C)N(O)C(C)(C)CC(OC(=O)C[N+]2(C)CC[N+](CC(=O)NC3CC(C)(C)N(O)C(C)(C)C3)(C)CC2)C1E\n",
      "GC1C(C)(C)N(O)C(C)(C)CC1OC(=O)CC[N+]1(C)CC[N+](CC(OC2CC(C)(C)N(O)C(C)(C)C2)=O)(C)CC1E\n",
      "GC(C[n+]1ccc(-c2cc[n+](CCC(NC3CC(C)(C)N(O)C(C)(C)C3)=O)cc2)cc1)(=O)OC1CC(C)(C)N(O)C(C)(C)C1E\n",
      "GC1(C)(C)N(O)C(C)(C)CC(OC(C[N+]2(C)CC[N+](CC(=O)OC3CC(C)(C)N(O)C(C)(C)C3)(C)CC2)=O)C1E\n",
      "GC1(C)(C)N(O)C(C)(C)CC(OC(C[N+]2(C)CC[N+](CCC(=O)NC3CC(C)(C)N(O)C(C)(C)C3)(C)CC2)=O)C1E\n",
      "GCC1(C)CC(OC(=O)C[N+]2=CC=C(C3=CC=C(C[N+](C4CC(C)(C)N(O)C(C)(C)C4)=O)(C)C)C=C3)CC(C)(C)N(O)C2)CC(C)(C)N1OE\n",
      "GC1(C)(C)N(O)C(C)(C)CC(OC(C[N+]2(C)CC[N+](C)(CCC(=O)OC3CC(C)(C)N(O)C(C)(C)C3)CC2)=O)C1E\n",
      "GC(Cn1cc[n+](CCC(=O)OC2CC(C)(C)N(O)C(C)(C)C2)c1)(=O)NC1CC(C)(C)N(O)C(C)(C)C1E\n",
      "GC(CC[n+]1ccc(-c2cc[n+](CCC(OC3CC(C)(C)N(O)C(C)(C)C3)=O)cc2)cc1)OC1CC(C)(C)N(O)C(C)(C)C1E\n",
      "Gc1(C)[n+](C2CC(C)(C)N(O)C(C)(C)C2)ccc(COC2CC(C)(C)N(O)C(C)(C)C2)c1E\n",
      "GC1(C)(C)N(O)C(C)(C)CC(OC(C[N+]2(C)CC[N+](CC(=O)NC3CC(C)(C)N(O)C(C)(C)C3)(C)CC2)=O)C1E\n",
      "GC1(C)(C)N(O)C(C)(C)CC(OC(=O)CC[n+]2ccc(C(=O)NC3CC(C)(C)N(O)C(C)(C)C3)cc2)C1E\n",
      "GC(=O)(C[N+]1(C)CC[N+](C)(CCC(=O)NC2CC(C)(C)N(O)C(C)(C)C2)CC1)NC1CC(C)(C)N(O)C(C)(C)C1E\n",
      "GC1(C)(C)N(O)C(C)(C)CC([N+](C)(CCC(OC2CC(C)(C)N(O)C(C)(C)C2)=O)C)C1E\n",
      "GC1C(OC(C[N+]2(C)CC[N+](CCC(=O)OC3CC(C)(C)N(O)C(C)(C)C3)(C)CC2)=O)CC(C)(C)N(O)C1(C)CE\n",
      "GC(CC[n+]1ccc(-c2cc[n+](CCC(OC3CC(C)(C)N(O)C(C)(C)C3)=O)cc2)cc1)(=O)OC1CC(C)(C)N(O)C(C)(C)C1E\n",
      "GC1(C)(C)N(O)C(C)(C)CC(OCC(C[N+](C)(C)C2CC(C)(C)N(O)C(C)(C)C2)(C)C)C1E\n",
      "GC(C[N+]1(C)CC[N+](C)(CC(OC2CC(C)(C)N(O)C(C)(C)C2)=O)CC1)C(=O)NC1CC(C)(C)N(O)C(C)(C)C1E\n",
      "GCC1(C)N(O)C(C)(C)CC(OC(C[N+]2(C)CC[N+](CC(=O)NC3CC(C)(C)N(O)C(C)(C)C3)(C)CC2)=O)C1E\n",
      "GCC1(C)N(O)C(C)(C)CC(OC(CC[n+]2ccn(CCC(=O)NC3CC(C)(C)N(O)C(C)(C)C3)c2)=O)C1E\n",
      "GC1C(OC(=O)C[N+]2(C)CC[N+](CC(=O)OC3CC(C)(C)N(O)C(C)(C)C3)(C)CC2)CC(C)(C)N(O)C1(C)CE\n",
      "GCC1(C)N(O)C(C)(C)CC(OC(=O)CC[n+]2ccc(-c3cc[n+](CCC(OC4CC(C)(C)N(O)C(C)(C)C4)=O)cc3)cc2)C1E\n",
      "GC1(C)(C)N(O)C(C)(C)CC(OC(=O)CC[n+]2ccc(-c3cc[n+](CCC(=O)OC4CC(C)(C)N(O)C(C)(C)C4)cc3)cc2)C1E\n",
      "GCC1(C)N(O)C(C)(C)CC(OC(CC[n+]2ccc(C(=O)NC3CC(C)(C)N(O)C(C)(C)C3)cc2)=O)C1E\n",
      "GCC1(C)N(O)C(C)(C)CC(OC(C[N+](C)(C)CC[N+](C2CC(C)(C)N(O)C(C)(C)C2)(C)C)=O)C1E\n",
      "GC1(C)(C)N(O)C(C)(C)CC(OCC[N+]2(C)CC[N+](CC(=O)NC3CC(C)(C)N(O)C(C)(C)C3)(C)CC2)C1E\n",
      "GC1(C)(C)N(O)C(C)(C)CC(OCc2cc[n+](CCC(=O)OC3CC(C)(C)N(O)C(C)(C)C3)cc2)C1E\n"
     ]
    }
   ],
   "source": [
    "\n",
    "for i in range(100):\n",
    "    sampled = do_data_generation.sample(model, temp, start_char, end_char, max_len, indices_token, token_indices)\n",
    "    print(sampled)"
   ]
  }
 ],
 "metadata": {
  "kernelspec": {
   "display_name": "mollib",
   "language": "python",
   "name": "python3"
  },
  "language_info": {
   "codemirror_mode": {
    "name": "ipython",
    "version": 3
   },
   "file_extension": ".py",
   "mimetype": "text/x-python",
   "name": "python",
   "nbconvert_exporter": "python",
   "pygments_lexer": "ipython3",
   "version": "3.10.13"
  }
 },
 "nbformat": 4,
 "nbformat_minor": 2
}
